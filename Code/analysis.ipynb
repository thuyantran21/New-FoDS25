{
 "cells": [
  {
   "cell_type": "code",
   "execution_count": 1,
   "id": "39535913",
   "metadata": {},
   "outputs": [],
   "source": [
    "import pandas as pd\n",
    "import seaborn as sns\n",
    "import matplotlib.pyplot as plt\n",
    "from sklearn.ensemble import RandomForestRegressor\n",
    "from xgboost import XGBRegressor\n",
    "from sklearn.linear_model import LinearRegression\n",
    "from sklearn.model_selection import cross_val_score\n",
    "from sklearn.metrics import r2_score, mean_squared_error\n",
    "import numpy as np\n",
    "from scipy.stats import f_oneway, pearsonr, spearmanr\n",
    "import os "
   ]
  },
  {
   "cell_type": "code",
   "execution_count": 2,
   "id": "a69604a1",
   "metadata": {},
   "outputs": [],
   "source": [
    "data = pd.read_csv(\"../Data/BigCitiesHealth.csv\")"
   ]
  },
  {
   "cell_type": "markdown",
   "id": "9f934601",
   "metadata": {},
   "source": [
    "# 2.1 Metrics Analysis"
   ]
  },
  {
   "cell_type": "code",
   "execution_count": 3,
   "id": "8dc35223",
   "metadata": {},
   "outputs": [
    {
     "name": "stdout",
     "output_type": "stream",
     "text": [
      "Filtered_data shape: (38630, 31) \n",
      "\n",
      "Diabetes Deaths: (4620, 31)\n",
      "Life Expectancy: (2288, 31)\n",
      "All Cancer Deaths: (5321, 31)\n",
      "Breast Cancer Deaths: (1506, 31)\n",
      "Lung Cancer Deaths: (4616, 31)\n",
      "Cardiovascular Disease Deaths: (5314, 31)\n",
      "Heart Disease Deaths: (5256, 31)\n",
      "High Blood Pressure: (396, 31)\n",
      "Diabetes: (396, 31)\n",
      "Pneumonia or Influenza Deaths: (4105, 31)\n",
      "Maternal Deaths: (770, 31)\n",
      "Infant Deaths: (1152, 31)\n",
      "Low Birthweight: (1936, 31)\n",
      "Adult Mental Distress: (396, 31)\n",
      "Teen Mental Distress: (558, 31)\n"
     ]
    }
   ],
   "source": [
    "relevant_metrics = [\n",
    "    'Diabetes Deaths', 'Life Expectancy',                                           #'Deaths from All Causes' includes accidents, therefore not part of this list!\n",
    "    'All Cancer Deaths', 'Breast Cancer Deaths', 'Lung Cancer Deaths', \n",
    "    'Cardiovascular Disease Deaths', 'Heart Disease Deaths', 'High Blood Pressure', \n",
    "    'Diabetes', 'Pneumonia or Influenza Deaths', 'Maternal Deaths', 'Infant Deaths', \n",
    "    'Low Birthweight', 'Adult Mental Distress', 'Teen Mental Distress'           # Obesity is a Riskfactor, not a Metric\n",
    "    ]\n",
    "filtered_data = data[data['metric_item_label'].isin(relevant_metrics)]\n",
    "print(f'Filtered_data shape: {filtered_data.shape} \\n')\n",
    "\n",
    "for metric in relevant_metrics:\n",
    "    metric_data = filtered_data[filtered_data['metric_item_label'] == metric]\n",
    "    print(f'{metric}: {metric_data.shape}')\n",
    "    \n",
    "#Henry: Seems useful to see how many data samples there are for each relevant metrics"
   ]
  },
  {
   "cell_type": "code",
   "execution_count": null,
   "id": "2f2c2bd6",
   "metadata": {},
   "outputs": [],
   "source": [
    "import pandas as pd\n",
    "from scipy.stats import f_oneway\n",
    "import os\n",
    "import matplotlib.pyplot as plt\n",
    "import seaborn as sns\n",
    "\n",
    "# Laden der Daten\n",
    "data = pd.read_csv(\"../Data/BigCitiesHealth.csv\")\n",
    "\n",
    "# Definiere die Zielmetriken und demographischen Merkmale\n",
    "metrics = data[\"metric_item_label\"].unique()\n",
    "# print(\"All metrics: \", metrics)\n",
    "\n",
    "# Metrics - Results from 2. Metric Evaluation\n",
    "targets = ['Lung Cancer Deaths', 'Adult Mental Distress', 'Infant Deaths', \n",
    "           'Life Expectancy', 'High Blood Pressure', 'Low Birthweight', 'Maternal Deaths']\n",
    "\n",
    "features = [\n",
    "    'strata_race_label',\n",
    "    'strata_sex_label',\n",
    "    'geo_strata_poverty',\n",
    "    'geo_strata_Segregation',\n",
    "    'geo_strata_region',\n",
    "    'geo_strata_PopDensity',\n",
    "    'geo_strata_Population'\n",
    "]\n",
    "\n",
    "# Speichere ANOVA-Ergebnisse für alle Features\n",
    "anova_results_all_features = []\n",
    "anova_results_per_target = []\n",
    "sign_feature = []\n",
    "\n",
    "# Zählt, wie oft jedes Feature signifikant ist\n",
    "feature_significance_count = {feature: 0 for feature in features}\n",
    "\n",
    "for target in targets:\n",
    "    print(f\"\\nProcessing Metric: {target}\")\n",
    "    df_metric = data[data['metric_item_label'] == target].dropna(subset=features + ['value'])\n",
    "\n",
    "    # ANOVA für alle Features\n",
    "    for feature in features:\n",
    "        groups = [group['value'].values for _, group in df_metric.groupby(feature) if len(group) > 1]\n",
    "        print(feature)\n",
    "        print(len(groups))\n",
    "        break\n",
    "    \n",
    "data[data['metric_item_label']=='High Blood Pressure']['strata_race_label'].unique()\n",
    "#Henry: just checking something"
   ]
  },
  {
   "cell_type": "code",
   "execution_count": 7,
   "id": "58ca96ad",
   "metadata": {},
   "outputs": [
    {
     "name": "stdout",
     "output_type": "stream",
     "text": [
      "27570    0\n",
      "27571    1\n",
      "27572    0\n",
      "27573    0\n",
      "27574    1\n",
      "        ..\n",
      "32182    0\n",
      "32183    1\n",
      "32184    1\n",
      "32185    1\n",
      "32186    1\n",
      "Name: value, Length: 4616, dtype: int64\n"
     ]
    }
   ],
   "source": [
    "data = pd.read_csv('../Data/BigCitiesHealth.csv')\n",
    "features = ['strata_race_label', 'strata_sex_label', 'geo_strata_poverty', 'geo_strata_Segregation', 'geo_strata_region', 'geo_strata_PopDensity']\n",
    "targets = ['Lung Cancer Deaths', 'Adult Mental Distress', 'Infant Deaths', 'Life Expectancy', 'High Blood Pressure', 'Low Birthweight', 'Maternal Deaths']\n",
    "\n",
    "from sklearn.preprocessing import LabelEncoder\n",
    "\n",
    "# Encode categorical features\n",
    "for col in features:\n",
    "    if data[col].dtype == 'object':\n",
    "        le = LabelEncoder()\n",
    "        data[col] = le.fit_transform(data[col].astype(str))\n",
    "        \n",
    "for target in targets:\n",
    "    df = data[data['metric_item_label'] == target].dropna(subset=features + ['value']).copy()\n",
    "    y = (df['value'] > df['value'].median()).astype(int)\n",
    "    X = df[features].astype(np.float32).values  # Important for NKN\n",
    "    print(y)\n",
    "    break"
   ]
  }
 ],
 "metadata": {
  "kernelspec": {
   "display_name": "fods25",
   "language": "python",
   "name": "python3"
  },
  "language_info": {
   "codemirror_mode": {
    "name": "ipython",
    "version": 3
   },
   "file_extension": ".py",
   "mimetype": "text/x-python",
   "name": "python",
   "nbconvert_exporter": "python",
   "pygments_lexer": "ipython3",
   "version": "3.12.9"
  }
 },
 "nbformat": 4,
 "nbformat_minor": 5
}
